{
 "cells": [
  {
   "cell_type": "code",
   "execution_count": null,
   "id": "3fdf8482-335b-49d4-afaa-a40bcded0a04",
   "metadata": {},
   "outputs": [],
   "source": []
  }
 ],
 "metadata": {
  "kernelspec": {
   "display_name": "Python 3 (ipykernel)",
   "language": "python",
   "name": "python3"
  }
 },
 "nbformat": 4,
 "nbformat_minor": 5
}
