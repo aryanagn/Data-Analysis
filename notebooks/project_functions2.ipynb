{
 "cells": [
  {
   "cell_type": "code",
   "execution_count": null,
   "id": "74db6392-2a65-461c-a357-3c99827a2ede",
   "metadata": {},
   "outputs": [],
   "source": [
    "import seaborn as sb\n",
    "import matplotlib.pyplot as plt\n",
    "import pandas as pd\n",
    "\n",
    "\n",
    "def load_and_process(path_csv):\n",
    "    \n",
    "    df1 = (\n",
    "         pd.read_csv( path_csv)\n",
    "        .drop(['category','currency','country', 'pledged', 'goal', 'usd pledged'], axis=1)\n",
    "        .rename(columns={'main_category': 'category', 'usd_pledged_real': 'pledged', 'usd_goal_real': 'goal'})\n",
    "    )\n",
    "    df2 = (\n",
    "        df1.loc[df1['state'].isin(\n",
    "            ['successful', 'failed'])]\n",
    "    )\n",
    "  \n",
    "    return df2\n"
   ]
  }
 ],
 "metadata": {
  "kernelspec": {
   "display_name": "Python 3 (ipykernel)",
   "language": "python",
   "name": "python3"
  }
 },
 "nbformat": 4,
 "nbformat_minor": 5
}
